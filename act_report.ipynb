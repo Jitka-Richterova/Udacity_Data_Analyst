{
 "cells": [
  {
   "cell_type": "markdown",
   "metadata": {},
   "source": [
    "## Key Insights from Twitter dogs analysis"
   ]
  },
  {
   "cell_type": "markdown",
   "metadata": {},
   "source": [
    "In this section I will attempt to answer the following three questions:\n",
    "1. What is the highest number of retweets and which tweet is it?\n",
    "\n",
    "2. What is the most common dog class?\n",
    "\n",
    "3. What is the most common breed?"
   ]
  },
  {
   "cell_type": "markdown",
   "metadata": {},
   "source": [
    "### Insights:\n",
    "#### 1. What is the highest number of retweets and which tweet is it?"
   ]
  },
  {
   "cell_type": "code",
   "execution_count": 2,
   "metadata": {},
   "outputs": [],
   "source": [
    "import pandas as pd\n",
    "twitter_master=pd.read_csv(\"twitter_archive_master.csv\")"
   ]
  },
  {
   "cell_type": "code",
   "execution_count": 3,
   "metadata": {},
   "outputs": [
    {
     "data": {
      "text/html": [
       "<div>\n",
       "<style scoped>\n",
       "    .dataframe tbody tr th:only-of-type {\n",
       "        vertical-align: middle;\n",
       "    }\n",
       "\n",
       "    .dataframe tbody tr th {\n",
       "        vertical-align: top;\n",
       "    }\n",
       "\n",
       "    .dataframe thead th {\n",
       "        text-align: right;\n",
       "    }\n",
       "</style>\n",
       "<table border=\"1\" class=\"dataframe\">\n",
       "  <thead>\n",
       "    <tr style=\"text-align: right;\">\n",
       "      <th></th>\n",
       "      <th>tweet_id</th>\n",
       "      <th>timestamp</th>\n",
       "      <th>text</th>\n",
       "      <th>expanded_urls</th>\n",
       "      <th>rating_numerator</th>\n",
       "      <th>rating_denominator</th>\n",
       "      <th>name</th>\n",
       "      <th>dog_type</th>\n",
       "      <th>rating</th>\n",
       "      <th>retweet_count</th>\n",
       "      <th>reply_count</th>\n",
       "      <th>like_count</th>\n",
       "      <th>quote_count</th>\n",
       "      <th>jpg_url</th>\n",
       "      <th>img_num</th>\n",
       "      <th>breed</th>\n",
       "      <th>conf</th>\n",
       "    </tr>\n",
       "  </thead>\n",
       "  <tbody>\n",
       "    <tr>\n",
       "      <th>847</th>\n",
       "      <td>744234799360020481</td>\n",
       "      <td>2016-06-18 18:26:18</td>\n",
       "      <td>Here's a doggo realizing you can stand in a po...</td>\n",
       "      <td>https://twitter.com/dog_rates/status/744234799...</td>\n",
       "      <td>13.0</td>\n",
       "      <td>10.0</td>\n",
       "      <td>Blanket</td>\n",
       "      <td>doggo</td>\n",
       "      <td>1.3</td>\n",
       "      <td>70483.0</td>\n",
       "      <td>1120.0</td>\n",
       "      <td>144406.0</td>\n",
       "      <td>3705.0</td>\n",
       "      <td>https://pbs.twimg.com/ext_tw_video_thumb/74423...</td>\n",
       "      <td>1.0</td>\n",
       "      <td>labrador retriever</td>\n",
       "      <td>0.825333</td>\n",
       "    </tr>\n",
       "  </tbody>\n",
       "</table>\n",
       "</div>"
      ],
      "text/plain": [
       "               tweet_id            timestamp  \\\n",
       "847  744234799360020481  2016-06-18 18:26:18   \n",
       "\n",
       "                                                  text  \\\n",
       "847  Here's a doggo realizing you can stand in a po...   \n",
       "\n",
       "                                         expanded_urls  rating_numerator  \\\n",
       "847  https://twitter.com/dog_rates/status/744234799...              13.0   \n",
       "\n",
       "     rating_denominator     name dog_type  rating  retweet_count  reply_count  \\\n",
       "847                10.0  Blanket    doggo     1.3        70483.0       1120.0   \n",
       "\n",
       "     like_count  quote_count  \\\n",
       "847    144406.0       3705.0   \n",
       "\n",
       "                                               jpg_url  img_num  \\\n",
       "847  https://pbs.twimg.com/ext_tw_video_thumb/74423...      1.0   \n",
       "\n",
       "                  breed      conf  \n",
       "847  labrador retriever  0.825333  "
      ]
     },
     "execution_count": 3,
     "metadata": {},
     "output_type": "execute_result"
    }
   ],
   "source": [
    "# 1. What is the most retweeted tweet?\n",
    "most_retweeted = twitter_master[twitter_master[\"retweet_count\"] == twitter_master[\"retweet_count\"].max()]\n",
    "most_retweeted"
   ]
  },
  {
   "cell_type": "markdown",
   "metadata": {},
   "source": [
    "The most retweet tweet is thweet with ID 744234799360020481. Has a rating 1.3 and was retweetet 70481 times. The image of the doggo is displayed below."
   ]
  },
  {
   "cell_type": "code",
   "execution_count": 4,
   "metadata": {},
   "outputs": [
    {
     "data": {
      "text/plain": [
       "['https://pbs.twimg.com/ext_tw_video_thumb/744234667679821824/pu/img/1GaWmtJtdqzZV7jy.jpg']"
      ]
     },
     "execution_count": 4,
     "metadata": {},
     "output_type": "execute_result"
    }
   ],
   "source": [
    "list(most_retweeted[\"jpg_url\"])"
   ]
  },
  {
   "cell_type": "markdown",
   "metadata": {},
   "source": [
    "#### 2. What is the most common dog class?"
   ]
  },
  {
   "cell_type": "code",
   "execution_count": 5,
   "metadata": {},
   "outputs": [
    {
     "data": {
      "text/plain": [
       "pupper     226\n",
       "doggo       77\n",
       "puppo       25\n",
       "floofer     10\n",
       "Name: dog_type, dtype: int64"
      ]
     },
     "execution_count": 5,
     "metadata": {},
     "output_type": "execute_result"
    }
   ],
   "source": [
    "twitter_master.dog_type.value_counts()"
   ]
  },
  {
   "cell_type": "code",
   "execution_count": 6,
   "metadata": {},
   "outputs": [],
   "source": [
    "#https://stackoverflow.com/questions/32891211/limit-the-number-of-groups-shown-in-seaborn-countplot\n",
    "import matplotlib.pyplot as plt\n",
    "import seaborn as sns\n",
    "\n",
    "fig, ax = plt.subplots(figsize = (16,5))\n",
    "ax = sns.countplot(x = \"dog_type\", data = twitter_master, order=twitter_master['dog_type'].value_counts().index, palette = \"viridis\")\n",
    "ax.set_title(\"count of classified dog types in the dataset\");\n",
    "\n",
    "ax.set_ylim(0, 170)\n",
    "for p in ax.patches:\n",
    "    ax.annotate('{:.0f}'.format(p.get_height()), (p.get_x()+0.3, p.get_height()+2))"
   ]
  },
  {
   "cell_type": "markdown",
   "metadata": {},
   "source": [
    "The visualisation above shows the frequency of classified dog types in the dataset. Most common are puppers with over 160, then doggos - 77, followed by puppo - 25, floofer - 10."
   ]
  },
  {
   "cell_type": "markdown",
   "metadata": {},
   "source": [
    "#### 3. What is the most common breed?"
   ]
  },
  {
   "cell_type": "code",
   "execution_count": 32,
   "metadata": {},
   "outputs": [
    {
     "data": {
      "text/plain": [
       "golden retriever                  173\n",
       "labrador retriever                113\n",
       "pembroke                           96\n",
       "chihuahua                          95\n",
       "pug                                65\n",
       "toy poodle                         52\n",
       "chow                               51\n",
       "samoyed                            46\n",
       "pomeranian                         42\n",
       "malamute                           34\n",
       "cocker spaniel                     34\n",
       "french bulldog                     32\n",
       "chesapeake bay retriever           31\n",
       "miniature pinscher                 26\n",
       "cardigan                           23\n",
       "staffordshire bullterrier          22\n",
       "eskimo dog                         22\n",
       "beagle                             21\n",
       "german shepherd                    21\n",
       "shih-tzu                           20\n",
       "siberian husky                     20\n",
       "lakeland terrier                   19\n",
       "shetland sheepdog                  19\n",
       "rottweiler                         19\n",
       "kuvasz                             19\n",
       "maltese dog                        19\n",
       "basset                             17\n",
       "italian greyhound                  17\n",
       "west highland white terrier        16\n",
       "american staffordshire terrier     16\n",
       "                                 ... \n",
       "silky terrier                       1\n",
       "snail                               1\n",
       "gorilla                             1\n",
       "goose                               1\n",
       "guillotine                          1\n",
       "joystick                            1\n",
       "swab                                1\n",
       "assault rifle                       1\n",
       "cardoon                             1\n",
       "pool table                          1\n",
       "shopping cart                       1\n",
       "cowboy boot                         1\n",
       "bouvier des flandres                1\n",
       "mouse                               1\n",
       "rain barrel                         1\n",
       "windsor tie                         1\n",
       "park bench                          1\n",
       "snorkel                             1\n",
       "quilt                               1\n",
       "african grey                        1\n",
       "desktop computer                    1\n",
       "wallaby                             1\n",
       "loggerhead                          1\n",
       "screw                               1\n",
       "sunglass                            1\n",
       "bolete                              1\n",
       "hare                                1\n",
       "french horn                         1\n",
       "entlebucher                         1\n",
       "swimming trunks                     1\n",
       "Name: breed, Length: 345, dtype: int64"
      ]
     },
     "execution_count": 32,
     "metadata": {},
     "output_type": "execute_result"
    }
   ],
   "source": [
    "twitter_master.breed.value_counts()"
   ]
  },
  {
   "cell_type": "code",
   "execution_count": 7,
   "metadata": {},
   "outputs": [
    {
     "data": {
      "image/png": "[encoded data removed]",
      "text/plain": [
       "<matplotlib.figure.Figure at 0x7ff3091ffcf8>"
      ]
     },
     "metadata": {
      "needs_background": "light"
     },
     "output_type": "display_data"
    }
   ],
   "source": [
    "#https://stackoverflow.com/questions/32891211/limit-the-number-of-groups-shown-in-seaborn-countplot\n",
    "fig, ax = plt.subplots(figsize = (16,5))\n",
    "ax = sns.countplot(x = \"breed\", data = twitter_master, order=twitter_master['breed'].value_counts().iloc[:10].index, palette = \"viridis\")\n",
    "ax.set_title(\"count of classified breeds in the dataset\");\n",
    "\n",
    "ax.set_ylim(0, 170)\n",
    "#https://stackoverflow.com/questions/33179122/seaborn-countplot-with-frequencies\n",
    "for p in ax.patches:\n",
    "    ax.annotate('{:.0f}'.format(p.get_height()), (p.get_x()+0.3, p.get_height()+2))"
   ]
  },
  {
   "cell_type": "markdown",
   "metadata": {},
   "source": [
    "The visulaisation below shows the frequency of the identified dog breeds in the dataset. The most common dogs rated are golder retriever (more than 160) followed by labrador retriver(113) and pembroke. "
   ]
  }
 ],
 "metadata": {
  "kernelspec": {
   "display_name": "Python 3",
   "language": "python",
   "name": "python3"
  },
  "language_info": {
   "codemirror_mode": {
    "name": "ipython",
    "version": 3
   },
   "file_extension": ".py",
   "mimetype": "text/x-python",
   "name": "python",
   "nbconvert_exporter": "python",
   "pygments_lexer": "ipython3",
   "version": "3.6.3"
  }
 },
 "nbformat": 4,
 "nbformat_minor": 2
}
